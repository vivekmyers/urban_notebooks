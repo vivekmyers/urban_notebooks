{
 "cells": [
  {
   "cell_type": "code",
   "execution_count": 1,
   "metadata": {},
   "outputs": [
    {
     "data": {
      "application/vnd.jupyter.widget-view+json": {
       "model_id": "75fc72c4399a412297ae35a3a88982d1",
       "version_major": 2,
       "version_minor": 0
      },
      "text/html": [
       "<p>Failed to display Jupyter Widget of type <code>HBox</code>.</p>\n",
       "<p>\n",
       "  If you're reading this message in the Jupyter Notebook or JupyterLab Notebook, it may mean\n",
       "  that the widgets JavaScript is still loading. If this message persists, it\n",
       "  likely means that the widgets JavaScript library is either not installed or\n",
       "  not enabled. See the <a href=\"https://ipywidgets.readthedocs.io/en/stable/user_install.html\">Jupyter\n",
       "  Widgets Documentation</a> for setup instructions.\n",
       "</p>\n",
       "<p>\n",
       "  If you're reading this message in another frontend (for example, a static\n",
       "  rendering on GitHub or <a href=\"https://nbviewer.jupyter.org/\">NBViewer</a>),\n",
       "  it may mean that your frontend doesn't currently support widgets.\n",
       "</p>\n"
      ],
      "text/plain": [
       "HBox(children=(IntProgress(value=0, max=182946), HTML(value='')))"
      ]
     },
     "metadata": {},
     "output_type": "display_data"
    },
    {
     "name": "stdout",
     "output_type": "stream",
     "text": [
      "\n"
     ]
    },
    {
     "data": {
      "application/vnd.jupyter.widget-view+json": {
       "model_id": "33032d1f3b904714aea7b8510385ef6a",
       "version_major": 2,
       "version_minor": 0
      },
      "text/html": [
       "<p>Failed to display Jupyter Widget of type <code>HBox</code>.</p>\n",
       "<p>\n",
       "  If you're reading this message in the Jupyter Notebook or JupyterLab Notebook, it may mean\n",
       "  that the widgets JavaScript is still loading. If this message persists, it\n",
       "  likely means that the widgets JavaScript library is either not installed or\n",
       "  not enabled. See the <a href=\"https://ipywidgets.readthedocs.io/en/stable/user_install.html\">Jupyter\n",
       "  Widgets Documentation</a> for setup instructions.\n",
       "</p>\n",
       "<p>\n",
       "  If you're reading this message in another frontend (for example, a static\n",
       "  rendering on GitHub or <a href=\"https://nbviewer.jupyter.org/\">NBViewer</a>),\n",
       "  it may mean that your frontend doesn't currently support widgets.\n",
       "</p>\n"
      ],
      "text/plain": [
       "HBox(children=(IntProgress(value=0, max=10129604), HTML(value='')))"
      ]
     },
     "metadata": {},
     "output_type": "display_data"
    },
    {
     "name": "stdout",
     "output_type": "stream",
     "text": [
      "\n"
     ]
    },
    {
     "data": {
      "application/vnd.jupyter.widget-view+json": {
       "model_id": "f83619dfc51641ce9a85a010d3e6a57d",
       "version_major": 2,
       "version_minor": 0
      },
      "text/html": [
       "<p>Failed to display Jupyter Widget of type <code>HBox</code>.</p>\n",
       "<p>\n",
       "  If you're reading this message in the Jupyter Notebook or JupyterLab Notebook, it may mean\n",
       "  that the widgets JavaScript is still loading. If this message persists, it\n",
       "  likely means that the widgets JavaScript library is either not installed or\n",
       "  not enabled. See the <a href=\"https://ipywidgets.readthedocs.io/en/stable/user_install.html\">Jupyter\n",
       "  Widgets Documentation</a> for setup instructions.\n",
       "</p>\n",
       "<p>\n",
       "  If you're reading this message in another frontend (for example, a static\n",
       "  rendering on GitHub or <a href=\"https://nbviewer.jupyter.org/\">NBViewer</a>),\n",
       "  it may mean that your frontend doesn't currently support widgets.\n",
       "</p>\n"
      ],
      "text/plain": [
       "HBox(children=(IntProgress(value=0, max=103475), HTML(value='')))"
      ]
     },
     "metadata": {},
     "output_type": "display_data"
    },
    {
     "name": "stdout",
     "output_type": "stream",
     "text": [
      "\n"
     ]
    },
    {
     "data": {
      "application/vnd.jupyter.widget-view+json": {
       "model_id": "e4450784234445d7bec8d9dcdf2595a4",
       "version_major": 2,
       "version_minor": 0
      },
      "text/html": [
       "<p>Failed to display Jupyter Widget of type <code>HBox</code>.</p>\n",
       "<p>\n",
       "  If you're reading this message in the Jupyter Notebook or JupyterLab Notebook, it may mean\n",
       "  that the widgets JavaScript is still loading. If this message persists, it\n",
       "  likely means that the widgets JavaScript library is either not installed or\n",
       "  not enabled. See the <a href=\"https://ipywidgets.readthedocs.io/en/stable/user_install.html\">Jupyter\n",
       "  Widgets Documentation</a> for setup instructions.\n",
       "</p>\n",
       "<p>\n",
       "  If you're reading this message in another frontend (for example, a static\n",
       "  rendering on GitHub or <a href=\"https://nbviewer.jupyter.org/\">NBViewer</a>),\n",
       "  it may mean that your frontend doesn't currently support widgets.\n",
       "</p>\n"
      ],
      "text/plain": [
       "HBox(children=(IntProgress(value=0, max=33022840), HTML(value='')))"
      ]
     },
     "metadata": {},
     "output_type": "display_data"
    },
    {
     "name": "stdout",
     "output_type": "stream",
     "text": [
      "\n"
     ]
    }
   ],
   "source": [
    "from analysis_lib import *\n",
    "from itertools import product\n",
    "from functools import reduce\n",
    "import pandas as pd\n",
    "\n",
    "# numbers for data sources\n",
    "sources = {\n",
    "    \"accidents\": 0,\n",
    "    \"subways\": 1,\n",
    "    \"sounds\": 2,\n",
    "    \"taxis\": 3,\n",
    "    \"all\": None,\n",
    "    \"norm-all\": None\n",
    "}\n",
    "\n",
    "\n",
    "def select(kind):\n",
    "    '''Puts 24D vectors corresponding to the hourly frequency of events \n",
    "    of a specified type for each day into the global points list, along\n",
    "    with their corresponding dates (using Day objects).\n",
    "    '''\n",
    "    global points\n",
    "    selection = [sources[kind]]\n",
    "    points = [i for i in cached if i.source in selection]\n"
   ]
  },
  {
   "cell_type": "code",
   "execution_count": 2,
   "metadata": {},
   "outputs": [
    {
     "name": "stdout",
     "output_type": "stream",
     "text": [
      "2015\n",
      "STATION                      USW00094728\n",
      "NAME         NY CITY CENTRAL PARK, NY US\n",
      "LATITUDE                          40.779\n",
      "LONGITUDE                       -73.9693\n",
      "ELEVATION                           42.7\n",
      "DATE                          2012-01-01\n",
      "AWND                                6.04\n",
      "PGTM                                 NaN\n",
      "PRCP                                0.05\n",
      "SNOW                                   0\n",
      "SNWD                                   0\n",
      "TAVG                                 NaN\n",
      "TMAX                                  52\n",
      "TMIN                                  41\n",
      "TSUN                                 NaN\n",
      "WDF2                                 150\n",
      "WDF5                                 150\n",
      "WSF2                                  15\n",
      "WSF5                                21.9\n",
      "Name: 0, dtype: object\n"
     ]
    }
   ],
   "source": [
    "from datetime import datetime as dt\n",
    "import re\n",
    "\n",
    "# Get given vectors\n",
    "select('accidents')\n",
    "# Use percipitation data\n",
    "weather = 'PRCP'\n",
    "year = points[0].date.split(' ')[2]\n",
    "print(year)\n",
    "# Get weather data from year\n",
    "df = pd.read_csv('resources/weather.csv')\n",
    "percips = df[['DATE',weather]].loc[df.DATE.str.startswith(year)]\n",
    "print(df.loc[0])\n",
    "# Parse and sort times\n",
    "percips = np.array(sorted([(dt.strptime(a, '%Y-%m-%d'), b) for _, a, b in percips.itertuples()]))\n",
    "data = np.array(sorted([(dt.strptime(a.date, '%m %d %Y'), sum(a.vec)) for a in points]))\n"
   ]
  },
  {
   "cell_type": "code",
   "execution_count": 3,
   "metadata": {},
   "outputs": [
    {
     "data": {
      "image/png": "[encoded data removed]",
      "text/plain": [
       "<Figure size 432x288 with 1 Axes>"
      ]
     },
     "metadata": {},
     "output_type": "display_data"
    }
   ],
   "source": [
    "from math import sqrt\n",
    "import itertools\n",
    "from matplotlib.patches import Rectangle\n",
    "\n",
    "# Plot two datasets against each other\n",
    "scatpts = [(a, b) for (_, a), (_, b) in zip(percips, data)]\n",
    "            \n",
    "a, b = np.polyfit(*zip(*scatpts), 1)\n",
    "r = np.corrcoef(*zip(*scatpts))[1, 0]\n",
    "extra = Rectangle((0, 0), 1, 1, fc=\"w\", fill=False, edgecolor='none', linewidth=0)\n",
    "fit = [a + b * i for i in list(zip(*scatpts))[0]]\n",
    "plt.figure()\n",
    "plt.legend([extra], [f\"r = {r}\"])\n",
    "plt.scatter(*zip(*scatpts), alpha=0.3)\n",
    "plt.plot(list(zip(*scatpts))[0], fit, color=\"r\", alpha=0.7)\n",
    "plt.show()"
   ]
  }
 ],
 "metadata": {
  "kernelspec": {
   "display_name": "Python 3",
   "language": "python",
   "name": "python3"
  },
  "language_info": {
   "codemirror_mode": {
    "name": "ipython",
    "version": 3
   },
   "file_extension": ".py",
   "mimetype": "text/x-python",
   "name": "python",
   "nbconvert_exporter": "python",
   "pygments_lexer": "ipython3",
   "version": "3.6.5"
  }
 },
 "nbformat": 4,
 "nbformat_minor": 2
}
