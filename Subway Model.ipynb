{
 "cells": [
  {
   "cell_type": "code",
   "execution_count": 1,
   "metadata": {},
   "outputs": [],
   "source": [
    "import sqlite3\n",
    "from tqdm import tqdm_notebook as tqdm\n",
    "from os import *\n",
    "import matplotlib.pyplot as plt\n",
    "%matplotlib inline\n",
    "import numpy as np\n",
    "from gurobipy import *\n",
    "from itertools import *\n",
    "# Set to choose year from which to draw data\n",
    "year = 2017\n"
   ]
  },
  {
   "cell_type": "code",
   "execution_count": 2,
   "metadata": {
    "scrolled": false
   },
   "outputs": [
    {
     "data": {
      "application/vnd.jupyter.widget-view+json": {
       "model_id": "54e4083e765b4baea362ad4eaa12cfbb",
       "version_major": 2,
       "version_minor": 0
      },
      "text/html": [
       "<p>Failed to display Jupyter Widget of type <code>HBox</code>.</p>\n",
       "<p>\n",
       "  If you're reading this message in the Jupyter Notebook or JupyterLab Notebook, it may mean\n",
       "  that the widgets JavaScript is still loading. If this message persists, it\n",
       "  likely means that the widgets JavaScript library is either not installed or\n",
       "  not enabled. See the <a href=\"https://ipywidgets.readthedocs.io/en/stable/user_install.html\">Jupyter\n",
       "  Widgets Documentation</a> for setup instructions.\n",
       "</p>\n",
       "<p>\n",
       "  If you're reading this message in another frontend (for example, a static\n",
       "  rendering on GitHub or <a href=\"https://nbviewer.jupyter.org/\">NBViewer</a>),\n",
       "  it may mean that your frontend doesn't currently support widgets.\n",
       "</p>\n"
      ],
      "text/plain": [
       "HBox(children=(IntProgress(value=0, max=1402617), HTML(value='')))"
      ]
     },
     "metadata": {},
     "output_type": "display_data"
    },
    {
     "name": "stdout",
     "output_type": "stream",
     "text": [
      "\n"
     ]
    }
   ],
   "source": [
    "# Query database for morning subway data in the given year\n",
    "conn = sqlite3.connect(\"resources/data.db\")\n",
    "cur = conn.cursor()\n",
    "cur.execute(f'''\n",
    "    SELECT name, entries FROM Subways\n",
    "    WHERE 7 < CAST(STRFTIME(\"%H\", time) AS INT) \n",
    "    AND CAST(STRFTIME(\"%H\", time) AS INT) < 11\n",
    "    AND CAST(STRFTIME(\"%Y\", time) AS INT) = {year}\n",
    "''')\n",
    "\n",
    "# Load into dictionary by station name\n",
    "data = cur.fetchall()\n",
    "stations_am = {}\n",
    "for name, count in tqdm(list(data)):\n",
    "    if name not in stations_am:\n",
    "        stations_am[name] = 0\n",
    "    stations_am[name] += count\n"
   ]
  },
  {
   "cell_type": "code",
   "execution_count": 3,
   "metadata": {},
   "outputs": [
    {
     "data": {
      "application/vnd.jupyter.widget-view+json": {
       "model_id": "b88f7bf6e6cf456bbe5026f1a68e9029",
       "version_major": 2,
       "version_minor": 0
      },
      "text/html": [
       "<p>Failed to display Jupyter Widget of type <code>HBox</code>.</p>\n",
       "<p>\n",
       "  If you're reading this message in the Jupyter Notebook or JupyterLab Notebook, it may mean\n",
       "  that the widgets JavaScript is still loading. If this message persists, it\n",
       "  likely means that the widgets JavaScript library is either not installed or\n",
       "  not enabled. See the <a href=\"https://ipywidgets.readthedocs.io/en/stable/user_install.html\">Jupyter\n",
       "  Widgets Documentation</a> for setup instructions.\n",
       "</p>\n",
       "<p>\n",
       "  If you're reading this message in another frontend (for example, a static\n",
       "  rendering on GitHub or <a href=\"https://nbviewer.jupyter.org/\">NBViewer</a>),\n",
       "  it may mean that your frontend doesn't currently support widgets.\n",
       "</p>\n"
      ],
      "text/plain": [
       "HBox(children=(IntProgress(value=0, max=1351004), HTML(value='')))"
      ]
     },
     "metadata": {},
     "output_type": "display_data"
    },
    {
     "name": "stdout",
     "output_type": "stream",
     "text": [
      "\n"
     ]
    }
   ],
   "source": [
    "# Query the afternoon data\n",
    "conn = sqlite3.connect(\"resources/data.db\")\n",
    "cur = conn.cursor()\n",
    "cur.execute(f''' \n",
    "    SELECT name, entries FROM Subways\n",
    "    WHERE 15 < CAST(STRFTIME(\"%H\", time) AS INT) \n",
    "    AND CAST(STRFTIME(\"%H\", time) AS INT) < 19\n",
    "    AND CAST(STRFTIME(\"%Y\", time) AS INT) = {year}\n",
    "''')\n",
    "\n",
    "# Load into dictionary by station name\n",
    "data = cur.fetchall()\n",
    "stations_pm = {}\n",
    "for name, count in tqdm(list(data)):\n",
    "    if name not in stations_pm:\n",
    "        stations_pm[name] = 0\n",
    "    stations_pm[name] += count\n"
   ]
  },
  {
   "cell_type": "code",
   "execution_count": 4,
   "metadata": {},
   "outputs": [],
   "source": [
    "# Simple function to match different labels for same subway station\n",
    "def fuzzy_match(a, b):\n",
    "    i = 0\n",
    "    j = 0\n",
    "    count = 0\n",
    "    match = -1\n",
    "    while True:\n",
    "        if i >= len(a):\n",
    "            break\n",
    "        elif j >= len(b):\n",
    "            i += 1\n",
    "            j = match + 1\n",
    "        elif a[i] == b[j]:\n",
    "            match = j \n",
    "            i, j, count = [x + 1 for x in (i, j, count)]\n",
    "        else:\n",
    "            j += 1\n",
    "    return count / min(len(a), len(b))\n"
   ]
  },
  {
   "cell_type": "code",
   "execution_count": 5,
   "metadata": {},
   "outputs": [
    {
     "data": {
      "application/vnd.jupyter.widget-view+json": {
       "model_id": "0e388f3635974b6bad9eb86b0b9567ed",
       "version_major": 2,
       "version_minor": 0
      },
      "text/html": [
       "<p>Failed to display Jupyter Widget of type <code>HBox</code>.</p>\n",
       "<p>\n",
       "  If you're reading this message in the Jupyter Notebook or JupyterLab Notebook, it may mean\n",
       "  that the widgets JavaScript is still loading. If this message persists, it\n",
       "  likely means that the widgets JavaScript library is either not installed or\n",
       "  not enabled. See the <a href=\"https://ipywidgets.readthedocs.io/en/stable/user_install.html\">Jupyter\n",
       "  Widgets Documentation</a> for setup instructions.\n",
       "</p>\n",
       "<p>\n",
       "  If you're reading this message in another frontend (for example, a static\n",
       "  rendering on GitHub or <a href=\"https://nbviewer.jupyter.org/\">NBViewer</a>),\n",
       "  it may mean that your frontend doesn't currently support widgets.\n",
       "</p>\n"
      ],
      "text/plain": [
       "HBox(children=(IntProgress(value=0, max=379), HTML(value='')))"
      ]
     },
     "metadata": {},
     "output_type": "display_data"
    },
    {
     "name": "stdout",
     "output_type": "stream",
     "text": [
      "\n",
      "100.0%\n"
     ]
    }
   ],
   "source": [
    "import io\n",
    "import re\n",
    "\n",
    "# Scaling for longitude to latitude\n",
    "long_scale = 0.758\n",
    "\n",
    "# Get station locations on map \n",
    "cur.execute(f'''\n",
    "    SELECT name, longitude * {long_scale}, latitude FROM Stations\n",
    "''')\n",
    "\n",
    "\n",
    "# Find the most similar string in given a list to search\n",
    "def convert_name(string, searchlist):\n",
    "    string = string.upper()\n",
    "    m1 = re.search('([0-9]+)', string)\n",
    "    get_group = lambda m: m if not m else m.group(1)\n",
    "    candidates = [name.upper() for name in searchlist \n",
    "                  if (not m1 or m1.group(1) == get_group(re.search('([0-9]+)', name)))\n",
    "                     and (m1 or not re.search('([0-9]+)', name))]\n",
    "    found = max(candidates, key=lambda x: fuzzy_match(string, x)) if candidates else string\n",
    "    return found\n",
    "\n",
    "# Stations to coordinates\n",
    "location_names = {a.upper(): (b, c) for a, b, c in list(cur.fetchall())}\n",
    "# Create dictionary mapping turnstile-data station names to locations\n",
    "name_to_location = {}\n",
    "for k in tqdm(stations_am):\n",
    "    location_label = convert_name(k, location_names)\n",
    "    if location_label in location_names:\n",
    "        name_to_location[k] = location_names[location_label]\n",
    "        \n",
    "print(f'{sum(a in name_to_location for a in stations_am) / len(stations_am)*100:.1f}%')\n"
   ]
  },
  {
   "cell_type": "code",
   "execution_count": 6,
   "metadata": {
    "scrolled": true
   },
   "outputs": [
    {
     "data": {
      "application/vnd.jupyter.widget-view+json": {
       "model_id": "1bce011e4ba74a1f8ded66759d5d72af",
       "version_major": 2,
       "version_minor": 0
      },
      "text/html": [
       "<p>Failed to display Jupyter Widget of type <code>HBox</code>.</p>\n",
       "<p>\n",
       "  If you're reading this message in the Jupyter Notebook or JupyterLab Notebook, it may mean\n",
       "  that the widgets JavaScript is still loading. If this message persists, it\n",
       "  likely means that the widgets JavaScript library is either not installed or\n",
       "  not enabled. See the <a href=\"https://ipywidgets.readthedocs.io/en/stable/user_install.html\">Jupyter\n",
       "  Widgets Documentation</a> for setup instructions.\n",
       "</p>\n",
       "<p>\n",
       "  If you're reading this message in another frontend (for example, a static\n",
       "  rendering on GitHub or <a href=\"https://nbviewer.jupyter.org/\">NBViewer</a>),\n",
       "  it may mean that your frontend doesn't currently support widgets.\n",
       "</p>\n"
      ],
      "text/plain": [
       "HBox(children=(IntProgress(value=0, max=2000000), HTML(value='')))"
      ]
     },
     "metadata": {},
     "output_type": "display_data"
    },
    {
     "name": "stdout",
     "output_type": "stream",
     "text": [
      "\n"
     ]
    }
   ],
   "source": [
    "from math import sqrt\n",
    "from scipy.spatial import KDTree\n",
    "\n",
    "# Number of taxi trips to sample\n",
    "taxi_rows = 2000000\n",
    "\n",
    "cur.execute(f'''\n",
    "    SELECT pickup_longitude * {long_scale}, pickup_latitude,\n",
    "           dropoff_longitude * {long_scale}, dropoff_latitude \n",
    "    FROM Taxis\n",
    "    WHERE 7 < CAST(STRFTIME(\"%H\", pickup_datetime) AS INT) < 11\n",
    "    LIMIT {taxi_rows}\n",
    "''')\n",
    "\n",
    "def dist(a, b):\n",
    "    return sqrt((a[0] - b[0]) ** 2 + (a[1] - b[1]) ** 2)\n",
    "\n",
    "# Get pickup and dropoff locations\n",
    "taxis = list(cur.fetchall())\n",
    "\n",
    "# Zero out matrix representing point to point taxi traffic near subway stations\n",
    "traffic_matrix = np.zeros([len(name_to_location), len(name_to_location)])\n",
    "\n",
    "# Iterate through start (a, b) and end (c, d) points\n",
    "for a, b, c, d in tqdm(taxis):\n",
    "    # Divide start and end locations into probability distributions such that the value for each station\n",
    "    # is 1 / (sum(1 / dist(loc, s) for s in stations) / dist(loc, station))\n",
    "    start = np.array([1 / dist([a, b], name_to_location[x]) for x in name_to_location])\n",
    "    start = start / start.sum()\n",
    "    end = np.array([1 / dist([c, d], name_to_location[x]) for x in name_to_location])\n",
    "    end = end / end.sum()\n",
    "    # Update point to point matrix with outer product of start and end distributions\n",
    "    update = start[:, np.newaxis] @ end[np.newaxis, :]\n",
    "    traffic_matrix += update\n",
    "\n",
    "# Create dictionary containing matrix values\n",
    "taxi_traffic = {k: {v: traffic_matrix[i][j] for j, v in enumerate(name_to_location)} for i, k in enumerate(name_to_location)}"
   ]
  },
  {
   "cell_type": "code",
   "execution_count": 7,
   "metadata": {
    "scrolled": true
   },
   "outputs": [
    {
     "name": "stdout",
     "output_type": "stream",
     "text": [
      "Academic license - for non-commercial use only\n",
      "Optimize a model with 1134 rows, 142884 columns and 286146 nonzeros\n",
      "Model has 142884 quadratic objective terms\n",
      "Coefficient statistics:\n",
      "  Matrix range     [1e+00, 1e+00]\n",
      "  Objective range  [5e-02, 9e+02]\n",
      "  QObjective range [3e+03, 4e+09]\n",
      "  Bounds range     [0e+00, 0e+00]\n",
      "  RHS range        [8e-09, 3e-02]\n",
      "Warning: Model contains large quadratic objective coefficients\n",
      "         Consider reformulating model or setting NumericFocus parameter\n",
      "         to avoid numerical issues.\n",
      "Presolve removed 379 rows and 378 columns\n",
      "Presolve time: 0.14s\n",
      "Presolved: 755 rows, 142506 columns, 284635 nonzeros\n",
      "Presolved model has 142506 quadratic objective terms\n",
      "Ordering time: 0.00s\n",
      "\n",
      "Barrier statistics:\n",
      " AA' NZ     : 1.421e+05\n",
      " Factor NZ  : 2.854e+05 (roughly 60 MBytes of memory)\n",
      " Factor Ops : 1.437e+08 (less than 1 second per iteration)\n",
      " Threads    : 2\n",
      "\n",
      "                  Objective                Residual\n",
      "Iter       Primal          Dual         Primal    Dual     Compl     Time\n",
      "   0   3.73705994e+10 -3.73709779e+10  3.77e+05 0.00e+00  1.00e+06     0s\n",
      "   1   3.84615053e+04 -8.20482895e+05  3.82e+02 0.00e+00  1.02e+03     0s\n",
      "   2   6.17348400e+00 -7.70651877e+05  4.38e+00 0.00e+00  1.69e+01     0s\n",
      "   3   1.37696145e+00 -5.73510504e+05  8.80e-01 0.00e+00  5.99e+00     0s\n",
      "   4   1.17880486e+00 -2.28834865e+05  1.57e-01 0.00e+00  1.81e+00     0s\n",
      "   5   1.18854945e+00 -4.35002575e+04  1.94e-02 0.00e+00  3.13e-01     0s\n",
      "   6   1.19121630e+00 -3.54460290e+02  1.06e-04 0.00e+00  2.50e-03     0s\n",
      "   7   1.15725069e+00 -5.01341219e+01  1.29e-05 0.00e+00  3.60e-04     0s\n",
      "   8   1.06465178e+00 -6.90957649e+00  1.27e-06 0.00e+00  5.60e-05     0s\n",
      "   9   9.21593546e-01 -5.14741970e-01  7.54e-08 0.00e+00  1.01e-05     0s\n",
      "  10   8.63747432e-01  5.25950564e-01  3.51e-09 9.79e-14  2.37e-06     0s\n",
      "  11   8.48441462e-01  7.76050253e-01  1.48e-10 7.48e-14  5.08e-07     0s\n",
      "  12   8.44008920e-01  8.35194464e-01  5.52e-12 9.87e-14  6.19e-08     1s\n",
      "  13   8.43179833e-01  8.42833735e-01  6.13e-14 3.00e-15  2.43e-09     1s\n",
      "  14   8.43142698e-01  8.43023776e-01  2.13e-14 8.63e-16  8.35e-10     1s\n",
      "  15   8.43129121e-01  8.43090016e-01  7.55e-15 1.63e-16  2.74e-10     1s\n",
      "  16   8.43125334e-01  8.43124685e-01  7.11e-15 2.60e-16  4.55e-12     1s\n",
      "  17   8.43125262e-01  8.43125260e-01  7.99e-15 1.03e-16  1.61e-14     1s\n",
      "\n",
      "Barrier solved model in 17 iterations and 0.60 seconds\n",
      "Optimal objective 8.43125262e-01\n",
      "\n",
      "[[0.00000000e+00 9.00701665e-03 3.42165764e-03 ... 2.17158903e-03\n",
      "  2.16329365e-12 1.06405833e-14]\n",
      " [1.85871391e-14 0.00000000e+00 3.04306332e-13 ... 2.05243003e-13\n",
      "  1.17952578e-13 2.53039063e-15]\n",
      " [2.82882831e-14 9.71740260e-03 0.00000000e+00 ... 4.61001045e-13\n",
      "  2.11405533e-13 3.68515785e-15]\n",
      " ...\n",
      " [3.55209552e-03 7.23903364e-03 4.41509658e-03 ... 0.00000000e+00\n",
      "  1.80510872e-03 5.29935156e-14]\n",
      " [7.18271901e-03 7.14894043e-03 4.71482514e-03 ... 3.28475073e-03\n",
      "  0.00000000e+00 2.03599089e-13]\n",
      " [9.05586890e-03 6.34011318e-03 4.21191901e-03 ... 3.35778370e-03\n",
      "  1.95069924e-03 0.00000000e+00]]\n",
      "objective =  0.8431252618256185\n"
     ]
    }
   ],
   "source": [
    "'''\n",
    "Creates a matrix p_matrix such that p_matrix[i][j] is the probability of a passenger\n",
    "leaving the ith station and going to the jth one. The constraints are that the number\n",
    "of entries to each station is equal to the morning entries and the number of exits is equal\n",
    "to afternoon entries (presumed to be equal). The diagonal (self traffic) is also set to\n",
    "zero. The minimized objective function is the sum of the squares between the p_matrix and\n",
    "the normalized point to point taxi matrix.\n",
    "'''\n",
    "m = Model()\n",
    "station_tuples = [(i, stations_am[i], stations_pm[i], name_to_location[i]) \n",
    "                  for i in stations_am if i in name_to_location and i in stations_pm]\n",
    "station_to_traffic = {a: (b, c) for a, b, c, d in station_tuples}\n",
    "\n",
    "# Normalize am and pm traffic so sum is 1\n",
    "station_traffic_am = np.array([v1 for i, (v1, v2) in station_to_traffic.items()])\n",
    "station_traffic_am = station_traffic_am / station_traffic_am.sum()\n",
    "station_traffic_pm = np.array([v2 for i, (v1, v2) in station_to_traffic.items()])\n",
    "station_traffic_pm = station_traffic_pm / station_traffic_pm.sum()\n",
    "\n",
    "# Non-normalized station flow\n",
    "x_matrix = np.array([[None for i in station_to_traffic] for j in station_to_traffic])\n",
    "\n",
    "# Normalized taxi traffic (sum of rows is 1)\n",
    "target_matrix = np.array([[taxi_traffic[j][i] for i in station_to_traffic] \n",
    "                          for j in station_to_traffic]).astype(np.float64)\n",
    "\n",
    "for i, v in enumerate(target_matrix):\n",
    "    if v.sum() == 0:\n",
    "        target_matrix[i] = np.ones(v.shape)\n",
    "\n",
    "for i, row in enumerate(target_matrix):\n",
    "    target_matrix[i] = row / row.sum()\n",
    "\n",
    "for (i, a), (j, b) in product(enumerate(station_to_traffic), enumerate(station_to_traffic)):\n",
    "    x_matrix[i][j] = m.addVar(vtype=GRB.CONTINUOUS, name=f'{a}->{b}')\n",
    "\n",
    "# Normalized x_matrix so that the sum of rows is 1\n",
    "p_matrix = np.array([x_matrix[i] / station_traffic_pm[i] for i in range(len(x_matrix))])\n",
    "\n",
    "# Sum of sqared difference between p_matrix and target_matrix\n",
    "objective = ((p_matrix - target_matrix) * (p_matrix - target_matrix)).sum()\n",
    "m.setObjective(objective, GRB.MINIMIZE)\n",
    "\n",
    "# Contraints on rows, columns, and diagonal\n",
    "m.addConstrs(x_matrix[i, :].sum() == station_traffic_pm[i] for i in range(len(x_matrix)))\n",
    "m.addConstrs(x_matrix[:, j].sum() == station_traffic_am[j] for j in range(len(x_matrix)))\n",
    "m.addConstrs(x_matrix[k][k] == 0 for k in range(len(x_matrix)))\n",
    "\n",
    "m.optimize()\n",
    "solution = np.vectorize(lambda x: x.getValue())(p_matrix)\n",
    "\n",
    "print(solution)\n",
    "print('objective = ', objective.getValue())"
   ]
  },
  {
   "cell_type": "code",
   "execution_count": 8,
   "metadata": {
    "scrolled": true
   },
   "outputs": [
    {
     "name": "stdout",
     "output_type": "stream",
     "text": [
      "Optimize a model with 1134 rows, 142884 columns and 286146 nonzeros\n",
      "Model has 142884 quadratic objective terms\n",
      "Coefficient statistics:\n",
      "  Matrix range     [1e+00, 1e+00]\n",
      "  Objective range  [3e+02, 6e+04]\n",
      "  QObjective range [2e+00, 2e+00]\n",
      "  Bounds range     [0e+00, 0e+00]\n",
      "  RHS range        [2e+00, 8e+06]\n",
      "Presolve removed 379 rows and 378 columns\n",
      "Presolve time: 0.12s\n",
      "Presolved: 755 rows, 142506 columns, 284635 nonzeros\n",
      "Presolved model has 142506 quadratic objective terms\n",
      "Ordering time: 0.00s\n",
      "\n",
      "Barrier statistics:\n",
      " AA' NZ     : 1.421e+05\n",
      " Factor NZ  : 2.854e+05 (roughly 60 MBytes of memory)\n",
      " Factor Ops : 1.437e+08 (less than 1 second per iteration)\n",
      " Threads    : 2\n",
      "\n",
      "                  Objective                Residual\n",
      "Iter       Primal          Dual         Primal    Dual     Compl     Time\n",
      "   0   4.36988010e+12 -3.53246255e+12  3.39e+06 1.42e+04  4.31e+08     0s\n",
      "   1   1.80068982e+12 -3.25473048e+12  7.14e+05 7.28e+03  1.18e+08     0s\n",
      "   2   1.92716426e+12 -9.72964976e+11  1.01e+05 8.81e+02  2.92e+07     0s\n",
      "   3   1.76080041e+12  8.44986949e+11  8.38e+03 0.00e+00  6.86e+06     0s\n",
      "   4   1.66140362e+12  1.19462323e+12  2.70e+03 7.28e-12  3.39e+06     0s\n",
      "   5   1.62626723e+12  1.28399434e+12  1.53e+03 3.64e-12  2.46e+06     0s\n",
      "   6   1.56163962e+12  1.41977494e+12  3.72e+01 0.00e+00  9.97e+05     0s\n",
      "   7   1.55234744e+12  1.44357823e+12  2.82e+01 0.00e+00  7.64e+05     0s\n",
      "   8   1.54155669e+12  1.46775180e+12  1.87e+01 0.00e+00  5.19e+05     0s\n",
      "   9   1.52764807e+12  1.49373944e+12  5.21e+00 3.64e-12  2.38e+05     0s\n",
      "  10   1.51983491e+12  1.50248907e+12  1.47e+00 0.00e+00  1.22e+05     0s\n",
      "  11   1.51470381e+12  1.50829365e+12  1.48e-06 0.00e+00  4.50e+04     0s\n",
      "  12   1.51189134e+12  1.51088486e+12  1.88e-07 1.19e-10  7.06e+03     0s\n",
      "  13   1.51135797e+12  1.51132929e+12  1.30e-08 2.87e-10  2.01e+02     0s\n",
      "  14   1.51134593e+12  1.51133758e+12  1.12e-08 1.25e-11  5.86e+01     1s\n",
      "  15   1.51134113e+12  1.51134090e+12  1.12e-08 1.09e-11  1.66e+00     1s\n",
      "  16   1.51134100e+12  1.51134099e+12  1.21e-08 1.34e-11  7.03e-03     1s\n",
      "  17   1.51134100e+12  1.51134100e+12  1.68e-08 1.32e-11  3.06e-04     1s\n",
      "  18   1.51134100e+12  1.51134100e+12  1.49e-08 1.56e-11  1.48e-05     1s\n",
      "  19   1.51134100e+12  1.51134100e+12  1.49e-08 1.46e-11  6.05e-07     1s\n",
      "  20   1.51134100e+12  1.51134100e+12  2.05e-08 1.18e-11  1.40e-08     1s\n",
      "  21   1.51134100e+12  1.51134100e+12  1.86e-08 1.23e-11  3.04e-11     1s\n",
      "\n",
      "Barrier solved model in 21 iterations and 0.67 seconds\n",
      "Optimal objective 1.51134100e+12\n",
      "\n",
      "[[0.00000000e+00 1.63335808e+04 8.18183030e+03 ... 5.73005380e+03\n",
      "  2.93525315e+02 1.58460115e-17]\n",
      " [1.35145551e+04 0.00000000e+00 2.31454333e+04 ... 1.81574692e+04\n",
      "  1.41374965e+04 2.00000000e+00]\n",
      " [3.71111713e+03 2.17777514e+04 0.00000000e+00 ... 1.25934772e+04\n",
      "  9.33375330e+03 4.98543798e-17]\n",
      " ...\n",
      " [1.90884800e-17 4.41721779e+03 2.52085920e+02 ... 0.00000000e+00\n",
      "  5.53782199e-17 1.27618429e-17]\n",
      " [1.33267829e-17 8.90224737e+02 8.06232530e-17 ... 5.96459829e-17\n",
      "  0.00000000e+00 1.11681916e-17]\n",
      " [7.87659042e-18 2.11005116e-17 1.61033397e-17 ... 1.54506386e-17\n",
      "  1.29757035e-17 0.00000000e+00]]\n",
      "objective =  1511340995092.0498\n"
     ]
    }
   ],
   "source": [
    "'''\n",
    "Same as above, but rather than using a row-normalized p_matrix, the non normalized flows are\n",
    "used (so the sum of rows is not 1). \n",
    "'''\n",
    "m = Model()\n",
    "station_tuples = [(i, stations_am[i], stations_pm[i], name_to_location[i]) \n",
    "                  for i in stations_am if i in name_to_location and i in stations_pm]\n",
    "\n",
    "station_to_traffic = {a: (b, c) for a, b, c, d in station_tuples}\n",
    "station_traffic_am = np.array([v1 for i, (v1, v2) in station_to_traffic.items()])\n",
    "# PM traffic is normalized to have same sum as AM entries\n",
    "station_traffic_pm = np.array([v2 for i, (v1, v2) in station_to_traffic.items()])\n",
    "station_traffic_pm = station_traffic_pm / station_traffic_pm.sum() * station_traffic_am.sum()\n",
    "x_matrix = np.array([[None for i in station_to_traffic] for j in station_to_traffic])\n",
    "target_matrix_nn = np.array([[taxi_traffic[j][i] for i in station_to_traffic] \n",
    "                          for j in station_to_traffic]).astype(np.float64)\n",
    "\n",
    "# Target matrix is normalized to have same sum as AM entries\n",
    "target_matrix_nn = target_matrix_nn / target_matrix_nn.sum() * station_traffic_am.sum()\n",
    "\n",
    "for (i, a), (j, b) in product(enumerate(station_to_traffic), enumerate(station_to_traffic)):\n",
    "    x_matrix[i][j] = m.addVar(vtype=GRB.CONTINUOUS, name=f'{a}->{b}')\n",
    "\n",
    "# Minimize sum of squares\n",
    "objective = ((x_matrix - target_matrix_nn) * (x_matrix - target_matrix_nn)).sum()\n",
    "m.setObjective(objective, GRB.MINIMIZE)\n",
    "\n",
    "# Add constraints on rows, columns, and diagonal\n",
    "m.addConstrs(x_matrix[i, :].sum() == station_traffic_pm[i] for i in range(len(x_matrix)))\n",
    "m.addConstrs(x_matrix[:, j].sum() == station_traffic_am[j] for j in range(len(x_matrix)))\n",
    "m.addConstrs(x_matrix[k][k] == 0 for k in range(len(x_matrix)))\n",
    "\n",
    "m.optimize()\n",
    "solution_x = np.vectorize(lambda x: x.x)(x_matrix)\n",
    "\n",
    "print(solution_x)\n",
    "print('objective = ', objective.getValue())"
   ]
  },
  {
   "cell_type": "code",
   "execution_count": 9,
   "metadata": {},
   "outputs": [],
   "source": [
    "from math import sqrt\n",
    "import itertools\n",
    "from matplotlib.patches import Rectangle\n",
    "import matplotlib as mpl\n",
    "\n",
    "# Makes scatterplots of the relationship between each entry in the target_matrix and the solution matrix\n",
    "# If working correctly, this will show a positive correlation\n",
    "def make_scatter(xmat, ymat, file):\n",
    "    %matplotlib inline\n",
    "    plt.close('all')\n",
    "    mpl.rcParams.update(mpl.rcParamsDefault)\n",
    "    eps = 1e-4\n",
    "    scatpts = [[a, b] for a, b in zip(chain(*xmat), chain(*ymat))]\n",
    "    norm = [[a, b] for a, b in scatpts if b > eps and a > eps]\n",
    "    a, b = np.polyfit(*zip(*norm), 1)\n",
    "    r = np.corrcoef(*zip(*norm))[1, 0]\n",
    "    extra = Rectangle((0, 0), 1, 1, fc=\"w\", fill=False, edgecolor='none', linewidth=0)\n",
    "    fit = [a + b * i for i in list(zip(*scatpts))[0]]\n",
    "    plt.axis('on')\n",
    "    plt.legend([extra], [f\"r = {r}\"])\n",
    "    plt.scatter(*zip(*scatpts), alpha=0.1, s=0.3)\n",
    "    plt.xlabel('Taxi Flow')\n",
    "    plt.ylabel('Projected Subway Flow')\n",
    "    plt.plot(list(zip(*scatpts))[0], fit, color=\"r\", alpha=0.7)\n",
    "    plt.savefig(f'images/subway_model/{file}_{year}.png')\n",
    "    \n",
    "# Make scatterplots for the probability matrix and non-normalized flow\n",
    "make_scatter(target_matrix, solution, 'subway_scatter')\n",
    "make_scatter(target_matrix_nn, solution_x, 'subway_nn_scatter')"
   ]
  },
  {
   "cell_type": "code",
   "execution_count": 10,
   "metadata": {},
   "outputs": [
    {
     "data": {
      "application/vnd.jupyter.widget-view+json": {
       "model_id": "3253df695e9c44359e220f525f096857",
       "version_major": 2,
       "version_minor": 0
      },
      "text/html": [
       "<p>Failed to display Jupyter Widget of type <code>HBox</code>.</p>\n",
       "<p>\n",
       "  If you're reading this message in the Jupyter Notebook or JupyterLab Notebook, it may mean\n",
       "  that the widgets JavaScript is still loading. If this message persists, it\n",
       "  likely means that the widgets JavaScript library is either not installed or\n",
       "  not enabled. See the <a href=\"https://ipywidgets.readthedocs.io/en/stable/user_install.html\">Jupyter\n",
       "  Widgets Documentation</a> for setup instructions.\n",
       "</p>\n",
       "<p>\n",
       "  If you're reading this message in another frontend (for example, a static\n",
       "  rendering on GitHub or <a href=\"https://nbviewer.jupyter.org/\">NBViewer</a>),\n",
       "  it may mean that your frontend doesn't currently support widgets.\n",
       "</p>\n"
      ],
      "text/plain": [
       "HBox(children=(IntProgress(value=0, max=5), HTML(value='')))"
      ]
     },
     "metadata": {},
     "output_type": "display_data"
    },
    {
     "name": "stdout",
     "output_type": "stream",
     "text": [
      "\n"
     ]
    }
   ],
   "source": [
    "import json\n",
    "\n",
    "# Get points in outlines of boroughs \n",
    "outline_points = []\n",
    "with io.open('resources/roads.geojson') as f:\n",
    "    data = json.load(f) \n",
    "    coo = [i['geometry']['coordinates'] for i in data['features']]\n",
    "    for outline in tqdm(coo):\n",
    "        for series in outline:\n",
    "            for line in series:\n",
    "                for (a, b), (c, d) in zip(line, line[1:]):\n",
    "                    outline_points.append([a * 0.758, b, c * 0.758, d])\n"
   ]
  },
  {
   "cell_type": "code",
   "execution_count": 11,
   "metadata": {},
   "outputs": [
    {
     "data": {
      "application/vnd.jupyter.widget-view+json": {
       "model_id": "d6606ac71f6e4820ae4eff7708d4c6e6",
       "version_major": 2,
       "version_minor": 0
      },
      "text/html": [
       "<p>Failed to display Jupyter Widget of type <code>HBox</code>.</p>\n",
       "<p>\n",
       "  If you're reading this message in the Jupyter Notebook or JupyterLab Notebook, it may mean\n",
       "  that the widgets JavaScript is still loading. If this message persists, it\n",
       "  likely means that the widgets JavaScript library is either not installed or\n",
       "  not enabled. See the <a href=\"https://ipywidgets.readthedocs.io/en/stable/user_install.html\">Jupyter\n",
       "  Widgets Documentation</a> for setup instructions.\n",
       "</p>\n",
       "<p>\n",
       "  If you're reading this message in another frontend (for example, a static\n",
       "  rendering on GitHub or <a href=\"https://nbviewer.jupyter.org/\">NBViewer</a>),\n",
       "  it may mean that your frontend doesn't currently support widgets.\n",
       "</p>\n"
      ],
      "text/plain": [
       "HBox(children=(IntProgress(value=0, max=742), HTML(value='')))"
      ]
     },
     "metadata": {},
     "output_type": "display_data"
    },
    {
     "name": "stdout",
     "output_type": "stream",
     "text": [
      "\n"
     ]
    },
    {
     "data": {
      "application/vnd.jupyter.widget-view+json": {
       "model_id": "b55b74b1bc9148b7b2139c2ced5da066",
       "version_major": 2,
       "version_minor": 0
      },
      "text/html": [
       "<p>Failed to display Jupyter Widget of type <code>HBox</code>.</p>\n",
       "<p>\n",
       "  If you're reading this message in the Jupyter Notebook or JupyterLab Notebook, it may mean\n",
       "  that the widgets JavaScript is still loading. If this message persists, it\n",
       "  likely means that the widgets JavaScript library is either not installed or\n",
       "  not enabled. See the <a href=\"https://ipywidgets.readthedocs.io/en/stable/user_install.html\">Jupyter\n",
       "  Widgets Documentation</a> for setup instructions.\n",
       "</p>\n",
       "<p>\n",
       "  If you're reading this message in another frontend (for example, a static\n",
       "  rendering on GitHub or <a href=\"https://nbviewer.jupyter.org/\">NBViewer</a>),\n",
       "  it may mean that your frontend doesn't currently support widgets.\n",
       "</p>\n"
      ],
      "text/plain": [
       "HBox(children=(IntProgress(value=0, max=742), HTML(value='')))"
      ]
     },
     "metadata": {},
     "output_type": "display_data"
    },
    {
     "name": "stdout",
     "output_type": "stream",
     "text": [
      "\n"
     ]
    }
   ],
   "source": [
    "pts = []\n",
    "\n",
    "# Gets closest station location to point\n",
    "def norm_loc(point):\n",
    "    return min(name_to_location.values(), \n",
    "                  key=lambda x: (point[0] - x[0]) ** 2 + (point[1] - x[1]) ** 2)\n",
    "\n",
    "# Appends chains of points in each subway line to pts\n",
    "with io.open('resources/lines.csv', 'r') as f:\n",
    "    for line in tqdm(list(f)[1:]):\n",
    "        line = re.sub(r'.*LINESTRING \\((.*)\\).*', r'\\1', line)\n",
    "        pts.append([norm_loc([float(i.split(\" \")[0]) * long_scale, float(i.split(\" \")[1])]) for i in line.split(', ')])\n",
    "\n",
    "# Dictionary mapping stations to connected stations\n",
    "line_net = {k: set() for k in name_to_location.values()}\n",
    "for line in tqdm(pts):\n",
    "    for a, b in zip(line, line[1:]):\n",
    "        line_net[a].add(b)\n",
    "        line_net[b].add(a)"
   ]
  },
  {
   "cell_type": "code",
   "execution_count": 12,
   "metadata": {
    "scrolled": false
   },
   "outputs": [],
   "source": [
    "import networkx as nx\n",
    "import matplotlib.pyplot as plt\n",
    "from scipy.spatial import Voronoi, voronoi_plot_2d\n",
    "import pandas as pd\n",
    "from math import inf\n",
    "\n",
    "\n",
    "def draw(matrix, color, filename, lines=False):\n",
    "    '''Draw taxi traffic matrix with given a color and a filename to save\n",
    "    to. If the lines parameter is set, draw the flow using shortest paths\n",
    "    through the existing subway lines.\n",
    "    '''\n",
    "    fig = plt.figure(figsize=[24, 24])\n",
    "    plt.rcParams['figure.figsize'] = [24, 24]\n",
    "\n",
    "    # DDraw voronoi cells around each station\n",
    "    vor = Voronoi([name_to_location[i] for i in name_to_location])\n",
    "    voronoi_plot_2d(vor, show_vertices=False, line_colors='lightgray', show_points=False,\n",
    "                     line_width=0.2, line_alpha=0.8, point_size=2)\n",
    "\n",
    "    city = nx.Graph()\n",
    "    \n",
    "    # Draw subway stations with size from flow\n",
    "    for i, (name, k, flow, location) in enumerate(station_tuples):\n",
    "        city.add_node(name, pos=location, size=flow / 200000)\n",
    "        \n",
    "    def draw_outline():\n",
    "        inc = 0\n",
    "        # Draw boroughs\n",
    "        for a, b, c, d in (outline_points):\n",
    "            city.add_node(inc, pos=(a, b), size=0)\n",
    "            inc -= 1\n",
    "            city.add_node(inc, pos=(c, d), size=0)\n",
    "            inc -= 1\n",
    "            city.add_edge(inc + 1, inc + 2, weight='0.6', length=inf, color='orange')\n",
    "        def dist(x, y):\n",
    "            return sqrt((x[0] - y[0]) ** 2 + (x[1] - y[1]) ** 2)\n",
    "        # Connect all of the subway lines\n",
    "        for i in tqdm(line_net):\n",
    "            for j in line_net[i]:\n",
    "                n1 = [n for n, d in city.nodes(data=True) if d['pos'] == i]\n",
    "                n2 = [n for n, d in city.nodes(data=True) if d['pos'] == j]\n",
    "                for n1v, n2v in product(n1, n2):\n",
    "                    city.add_edge(n1v, n2v, length=dist(i, j), weight=0.5, color=color)\n",
    "    draw_outline()\n",
    "\n",
    "    # For each pair of stations\n",
    "    for i1, (name1, k1, j1, location1) in enumerate(station_tuples):\n",
    "        for i2, (name2, k2, j2, location2) in enumerate(station_tuples):\n",
    "            if lines:\n",
    "                # If the lines parameter is set, increase the weight of the edges on\n",
    "                # the shortest path between the two stations through valid subway lines\n",
    "                # by an amount proportional to the respective value in the matrix.\n",
    "                path = nx.shortest_path(city, source=name1, target=name2)\n",
    "                for a, b in zip(path, path[1:]):\n",
    "                    weight = matrix[i1][i2] ** 0.4\n",
    "                    edge = city.get_edge_data(a, b, default=None)\n",
    "                    if edge:\n",
    "                        edge['weight'] += weight / len(matrix) / 2\n",
    "            else:\n",
    "                # Otherwise add a direct connection between the stations with weight \n",
    "                # proportional to the value in the point to point matrix.\n",
    "                city.add_edge(name1, name2, weight=matrix[i1][i2] ** 0.9, color=color, length=inf)\n",
    "            \n",
    "\n",
    "    edgewidth = np.array([d['weight']\n",
    "                          for (u, v, d) in city.edges(data=True)])\n",
    "    edgecolor = np.array([d['color'] \n",
    "                          for (u, v, d) in city.edges(data=True)])\n",
    "\n",
    "    pos = nx.get_node_attributes(city, 'pos')\n",
    "    attr = nx.get_node_attributes(city, 'size')\n",
    "    nodesize = [attr[i] for i in city.nodes()]\n",
    "    \n",
    "    nx.draw_networkx_nodes(city, pos, node_size=nodesize, node_color='red')\n",
    "    nx.draw_networkx_edges(city, pos, width=edgewidth, edge_color=edgecolor)\n",
    "    \n",
    "    plt.rcParams['figure.facecolor'] = 'black'\n",
    "    fig.patch.set_facecolor('black')\n",
    "    plt.axis('off')\n",
    "    plt.savefig(f'images/subway_model/{filename}_{year}.png', bbox_inches='tight', dpi=100, facecolor='black', pad_inches=0)"
   ]
  },
  {
   "cell_type": "code",
   "execution_count": 13,
   "metadata": {
    "scrolled": true
   },
   "outputs": [
    {
     "data": {
      "application/vnd.jupyter.widget-view+json": {
       "model_id": "190fabf8d2f441188e071282bf3d8941",
       "version_major": 2,
       "version_minor": 0
      },
      "text/html": [
       "<p>Failed to display Jupyter Widget of type <code>HBox</code>.</p>\n",
       "<p>\n",
       "  If you're reading this message in the Jupyter Notebook or JupyterLab Notebook, it may mean\n",
       "  that the widgets JavaScript is still loading. If this message persists, it\n",
       "  likely means that the widgets JavaScript library is either not installed or\n",
       "  not enabled. See the <a href=\"https://ipywidgets.readthedocs.io/en/stable/user_install.html\">Jupyter\n",
       "  Widgets Documentation</a> for setup instructions.\n",
       "</p>\n",
       "<p>\n",
       "  If you're reading this message in another frontend (for example, a static\n",
       "  rendering on GitHub or <a href=\"https://nbviewer.jupyter.org/\">NBViewer</a>),\n",
       "  it may mean that your frontend doesn't currently support widgets.\n",
       "</p>\n"
      ],
      "text/plain": [
       "HBox(children=(IntProgress(value=0, max=308), HTML(value='')))"
      ]
     },
     "metadata": {},
     "output_type": "display_data"
    },
    {
     "name": "stdout",
     "output_type": "stream",
     "text": [
      "\n"
     ]
    },
    {
     "data": {
      "application/vnd.jupyter.widget-view+json": {
       "model_id": "21af830cf27e4d5f80125b67d5b4ea54",
       "version_major": 2,
       "version_minor": 0
      },
      "text/html": [
       "<p>Failed to display Jupyter Widget of type <code>HBox</code>.</p>\n",
       "<p>\n",
       "  If you're reading this message in the Jupyter Notebook or JupyterLab Notebook, it may mean\n",
       "  that the widgets JavaScript is still loading. If this message persists, it\n",
       "  likely means that the widgets JavaScript library is either not installed or\n",
       "  not enabled. See the <a href=\"https://ipywidgets.readthedocs.io/en/stable/user_install.html\">Jupyter\n",
       "  Widgets Documentation</a> for setup instructions.\n",
       "</p>\n",
       "<p>\n",
       "  If you're reading this message in another frontend (for example, a static\n",
       "  rendering on GitHub or <a href=\"https://nbviewer.jupyter.org/\">NBViewer</a>),\n",
       "  it may mean that your frontend doesn't currently support widgets.\n",
       "</p>\n"
      ],
      "text/plain": [
       "HBox(children=(IntProgress(value=0, max=308), HTML(value='')))"
      ]
     },
     "metadata": {},
     "output_type": "display_data"
    },
    {
     "name": "stdout",
     "output_type": "stream",
     "text": [
      "\n"
     ]
    }
   ],
   "source": [
    "# Save computed p_matrix (rows normalized)\n",
    "draw(solution, 'lightblue', 'subways')\n",
    "\n",
    "# And with subway lines\n",
    "draw(solution, 'lightblue', 'subways_lines', lines=True)"
   ]
  },
  {
   "cell_type": "code",
   "execution_count": 14,
   "metadata": {
    "scrolled": true
   },
   "outputs": [
    {
     "data": {
      "application/vnd.jupyter.widget-view+json": {
       "model_id": "a81bcc0193994fcba6129c0671609dc6",
       "version_major": 2,
       "version_minor": 0
      },
      "text/html": [
       "<p>Failed to display Jupyter Widget of type <code>HBox</code>.</p>\n",
       "<p>\n",
       "  If you're reading this message in the Jupyter Notebook or JupyterLab Notebook, it may mean\n",
       "  that the widgets JavaScript is still loading. If this message persists, it\n",
       "  likely means that the widgets JavaScript library is either not installed or\n",
       "  not enabled. See the <a href=\"https://ipywidgets.readthedocs.io/en/stable/user_install.html\">Jupyter\n",
       "  Widgets Documentation</a> for setup instructions.\n",
       "</p>\n",
       "<p>\n",
       "  If you're reading this message in another frontend (for example, a static\n",
       "  rendering on GitHub or <a href=\"https://nbviewer.jupyter.org/\">NBViewer</a>),\n",
       "  it may mean that your frontend doesn't currently support widgets.\n",
       "</p>\n"
      ],
      "text/plain": [
       "HBox(children=(IntProgress(value=0, max=308), HTML(value='')))"
      ]
     },
     "metadata": {},
     "output_type": "display_data"
    },
    {
     "name": "stdout",
     "output_type": "stream",
     "text": [
      "\n"
     ]
    },
    {
     "data": {
      "application/vnd.jupyter.widget-view+json": {
       "model_id": "d17ee753157446b8ae4714ad1e1931d8",
       "version_major": 2,
       "version_minor": 0
      },
      "text/html": [
       "<p>Failed to display Jupyter Widget of type <code>HBox</code>.</p>\n",
       "<p>\n",
       "  If you're reading this message in the Jupyter Notebook or JupyterLab Notebook, it may mean\n",
       "  that the widgets JavaScript is still loading. If this message persists, it\n",
       "  likely means that the widgets JavaScript library is either not installed or\n",
       "  not enabled. See the <a href=\"https://ipywidgets.readthedocs.io/en/stable/user_install.html\">Jupyter\n",
       "  Widgets Documentation</a> for setup instructions.\n",
       "</p>\n",
       "<p>\n",
       "  If you're reading this message in another frontend (for example, a static\n",
       "  rendering on GitHub or <a href=\"https://nbviewer.jupyter.org/\">NBViewer</a>),\n",
       "  it may mean that your frontend doesn't currently support widgets.\n",
       "</p>\n"
      ],
      "text/plain": [
       "HBox(children=(IntProgress(value=0, max=308), HTML(value='')))"
      ]
     },
     "metadata": {},
     "output_type": "display_data"
    },
    {
     "name": "stdout",
     "output_type": "stream",
     "text": [
      "\n"
     ]
    }
   ],
   "source": [
    "# Save non-normalized subway matrix\n",
    "draw(solution_x / solution_x.sum() * len(solution_x), 'lightblue', 'subways_nn')\n",
    "\n",
    "# And with subway lines\n",
    "draw(solution_x / solution_x.sum() * len(solution_x), 'lightblue', 'subways_nn_lines', lines=True)"
   ]
  },
  {
   "cell_type": "code",
   "execution_count": 15,
   "metadata": {
    "scrolled": true
   },
   "outputs": [
    {
     "data": {
      "application/vnd.jupyter.widget-view+json": {
       "model_id": "aad742050b6444ab99118382bf7efbef",
       "version_major": 2,
       "version_minor": 0
      },
      "text/html": [
       "<p>Failed to display Jupyter Widget of type <code>HBox</code>.</p>\n",
       "<p>\n",
       "  If you're reading this message in the Jupyter Notebook or JupyterLab Notebook, it may mean\n",
       "  that the widgets JavaScript is still loading. If this message persists, it\n",
       "  likely means that the widgets JavaScript library is either not installed or\n",
       "  not enabled. See the <a href=\"https://ipywidgets.readthedocs.io/en/stable/user_install.html\">Jupyter\n",
       "  Widgets Documentation</a> for setup instructions.\n",
       "</p>\n",
       "<p>\n",
       "  If you're reading this message in another frontend (for example, a static\n",
       "  rendering on GitHub or <a href=\"https://nbviewer.jupyter.org/\">NBViewer</a>),\n",
       "  it may mean that your frontend doesn't currently support widgets.\n",
       "</p>\n"
      ],
      "text/plain": [
       "HBox(children=(IntProgress(value=0, max=308), HTML(value='')))"
      ]
     },
     "metadata": {},
     "output_type": "display_data"
    },
    {
     "name": "stdout",
     "output_type": "stream",
     "text": [
      "\n"
     ]
    }
   ],
   "source": [
    "# Draw taxi traffic\n",
    "draw(target_matrix, 'lightyellow', 'taxis')"
   ]
  },
  {
   "cell_type": "code",
   "execution_count": 16,
   "metadata": {
    "scrolled": true
   },
   "outputs": [
    {
     "data": {
      "application/vnd.jupyter.widget-view+json": {
       "model_id": "447cd521460b43b69adcee5bba55f17c",
       "version_major": 2,
       "version_minor": 0
      },
      "text/html": [
       "<p>Failed to display Jupyter Widget of type <code>HBox</code>.</p>\n",
       "<p>\n",
       "  If you're reading this message in the Jupyter Notebook or JupyterLab Notebook, it may mean\n",
       "  that the widgets JavaScript is still loading. If this message persists, it\n",
       "  likely means that the widgets JavaScript library is either not installed or\n",
       "  not enabled. See the <a href=\"https://ipywidgets.readthedocs.io/en/stable/user_install.html\">Jupyter\n",
       "  Widgets Documentation</a> for setup instructions.\n",
       "</p>\n",
       "<p>\n",
       "  If you're reading this message in another frontend (for example, a static\n",
       "  rendering on GitHub or <a href=\"https://nbviewer.jupyter.org/\">NBViewer</a>),\n",
       "  it may mean that your frontend doesn't currently support widgets.\n",
       "</p>\n"
      ],
      "text/plain": [
       "HBox(children=(IntProgress(value=0, max=308), HTML(value='')))"
      ]
     },
     "metadata": {},
     "output_type": "display_data"
    },
    {
     "name": "stdout",
     "output_type": "stream",
     "text": [
      "\n"
     ]
    }
   ],
   "source": [
    "# Draw absolute difference between \"taxis\" and \"subways\" plots\n",
    "draw(abs(solution - target_matrix), 'violet', 'diff')"
   ]
  }
 ],
 "metadata": {
  "kernelspec": {
   "display_name": "Python 3",
   "language": "python",
   "name": "python3"
  },
  "language_info": {
   "codemirror_mode": {
    "name": "ipython",
    "version": 3
   },
   "file_extension": ".py",
   "mimetype": "text/x-python",
   "name": "python",
   "nbconvert_exporter": "python",
   "pygments_lexer": "ipython3",
   "version": "3.6.5"
  }
 },
 "nbformat": 4,
 "nbformat_minor": 2
}
