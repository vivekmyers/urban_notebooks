{
 "cells": [
  {
   "cell_type": "code",
   "execution_count": 1,
   "metadata": {},
   "outputs": [],
   "source": [
    "import sqlite3\n",
    "from tqdm import tqdm_notebook as tqdm\n",
    "from os import *\n",
    "import matplotlib.pyplot as plt\n",
    "%matplotlib inline\n",
    "import numpy as np\n",
    "from gurobipy import *\n",
    "from itertools import *\n"
   ]
  },
  {
   "cell_type": "code",
   "execution_count": 2,
   "metadata": {
    "scrolled": false
   },
   "outputs": [
    {
     "data": {
      "application/vnd.jupyter.widget-view+json": {
       "model_id": "43e63d3b2af4448589e3269df132f7bc",
       "version_major": 2,
       "version_minor": 0
      },
      "text/html": [
       "<p>Failed to display Jupyter Widget of type <code>HBox</code>.</p>\n",
       "<p>\n",
       "  If you're reading this message in the Jupyter Notebook or JupyterLab Notebook, it may mean\n",
       "  that the widgets JavaScript is still loading. If this message persists, it\n",
       "  likely means that the widgets JavaScript library is either not installed or\n",
       "  not enabled. See the <a href=\"https://ipywidgets.readthedocs.io/en/stable/user_install.html\">Jupyter\n",
       "  Widgets Documentation</a> for setup instructions.\n",
       "</p>\n",
       "<p>\n",
       "  If you're reading this message in another frontend (for example, a static\n",
       "  rendering on GitHub or <a href=\"https://nbviewer.jupyter.org/\">NBViewer</a>),\n",
       "  it may mean that your frontend doesn't currently support widgets.\n",
       "</p>\n"
      ],
      "text/plain": [
       "HBox(children=(IntProgress(value=1, bar_style='info', max=1), HTML(value='')))"
      ]
     },
     "metadata": {},
     "output_type": "display_data"
    },
    {
     "name": "stdout",
     "output_type": "stream",
     "text": [
      "\n"
     ]
    }
   ],
   "source": [
    "conn = sqlite3.connect(\"resources/data.db\")\n",
    "cur = conn.cursor()\n",
    "cur.execute('''\n",
    "    SELECT name, entries FROM Subways\n",
    "    WHERE 7 < CAST(STRFTIME(\"%H\", time) AS INT) \n",
    "    AND CAST(STRFTIME(\"%H\", time) AS INT) < 11\n",
    "    AND STRFTIME(\"%Y\", time) = 2015\n",
    "''')\n",
    "\n",
    "data = cur.fetchall()\n",
    "stations_am = {}\n",
    "for name, count in tqdm(list(data)):\n",
    "    if name not in stations_am:\n",
    "        stations_am[name] = 0\n",
    "    stations_am[name] += count\n"
   ]
  },
  {
   "cell_type": "code",
   "execution_count": 3,
   "metadata": {},
   "outputs": [
    {
     "data": {
      "application/vnd.jupyter.widget-view+json": {
       "model_id": "71db76bd3bc64fa79ed2b6af9bff02b5",
       "version_major": 2,
       "version_minor": 0
      },
      "text/html": [
       "<p>Failed to display Jupyter Widget of type <code>HBox</code>.</p>\n",
       "<p>\n",
       "  If you're reading this message in the Jupyter Notebook or JupyterLab Notebook, it may mean\n",
       "  that the widgets JavaScript is still loading. If this message persists, it\n",
       "  likely means that the widgets JavaScript library is either not installed or\n",
       "  not enabled. See the <a href=\"https://ipywidgets.readthedocs.io/en/stable/user_install.html\">Jupyter\n",
       "  Widgets Documentation</a> for setup instructions.\n",
       "</p>\n",
       "<p>\n",
       "  If you're reading this message in another frontend (for example, a static\n",
       "  rendering on GitHub or <a href=\"https://nbviewer.jupyter.org/\">NBViewer</a>),\n",
       "  it may mean that your frontend doesn't currently support widgets.\n",
       "</p>\n"
      ],
      "text/plain": [
       "HBox(children=(IntProgress(value=0, max=4843400), HTML(value='')))"
      ]
     },
     "metadata": {},
     "output_type": "display_data"
    },
    {
     "name": "stdout",
     "output_type": "stream",
     "text": [
      "\n"
     ]
    }
   ],
   "source": [
    "conn = sqlite3.connect(\"resources/data.db\")\n",
    "cur = conn.cursor()\n",
    "cur.execute(''' \n",
    "    SELECT name, entries FROM Subways\n",
    "    WHERE 15 < CAST(STRFTIME(\"%H\", time) AS INT) AND CAST(STRFTIME(\"%H\", time) AS INT) < 19\n",
    "''')\n",
    "\n",
    "data = cur.fetchall()\n",
    "stations_pm = {}\n",
    "for name, count in tqdm(list(data)):\n",
    "    if name not in stations_pm:\n",
    "        stations_pm[name] = 0\n",
    "    stations_pm[name] += count\n"
   ]
  },
  {
   "cell_type": "code",
   "execution_count": 4,
   "metadata": {},
   "outputs": [],
   "source": [
    "def fuzzy_match(a, b):\n",
    "    i = 0\n",
    "    j = 0\n",
    "    count = 0\n",
    "    match = -1\n",
    "    while True:\n",
    "        if i >= len(a):\n",
    "            break\n",
    "        elif j >= len(b):\n",
    "            i += 1\n",
    "            j = match + 1\n",
    "        elif a[i] == b[j]:\n",
    "            match = j \n",
    "            i, j, count = [x + 1 for x in (i, j, count)]\n",
    "        else:\n",
    "            j += 1\n",
    "    return count / min(len(a), len(b))\n"
   ]
  },
  {
   "cell_type": "code",
   "execution_count": 5,
   "metadata": {},
   "outputs": [
    {
     "data": {
      "application/vnd.jupyter.widget-view+json": {
       "model_id": "1b7fdbbfe4624c08b004e81688e36eef",
       "version_major": 2,
       "version_minor": 0
      },
      "text/html": [
       "<p>Failed to display Jupyter Widget of type <code>HBox</code>.</p>\n",
       "<p>\n",
       "  If you're reading this message in the Jupyter Notebook or JupyterLab Notebook, it may mean\n",
       "  that the widgets JavaScript is still loading. If this message persists, it\n",
       "  likely means that the widgets JavaScript library is either not installed or\n",
       "  not enabled. See the <a href=\"https://ipywidgets.readthedocs.io/en/stable/user_install.html\">Jupyter\n",
       "  Widgets Documentation</a> for setup instructions.\n",
       "</p>\n",
       "<p>\n",
       "  If you're reading this message in another frontend (for example, a static\n",
       "  rendering on GitHub or <a href=\"https://nbviewer.jupyter.org/\">NBViewer</a>),\n",
       "  it may mean that your frontend doesn't currently support widgets.\n",
       "</p>\n"
      ],
      "text/plain": [
       "HBox(children=(IntProgress(value=1, bar_style='info', max=1), HTML(value='')))"
      ]
     },
     "metadata": {},
     "output_type": "display_data"
    },
    {
     "name": "stdout",
     "output_type": "stream",
     "text": [
      "\n"
     ]
    },
    {
     "ename": "ZeroDivisionError",
     "evalue": "division by zero",
     "output_type": "error",
     "traceback": [
      "\u001b[0;31m---------------------------------------------------------------------------\u001b[0m",
      "\u001b[0;31mZeroDivisionError\u001b[0m                         Traceback (most recent call last)",
      "\u001b[0;32m<ipython-input-5-15b9245b5bfc>\u001b[0m in \u001b[0;36m<module>\u001b[0;34m()\u001b[0m\n\u001b[1;32m     31\u001b[0m     \u001b[0;32mfor\u001b[0m \u001b[0mi\u001b[0m \u001b[0;32min\u001b[0m \u001b[0msorted\u001b[0m\u001b[0;34m(\u001b[0m\u001b[0mname_to_location\u001b[0m\u001b[0;34m)\u001b[0m\u001b[0;34m:\u001b[0m \u001b[0mf\u001b[0m\u001b[0;34m.\u001b[0m\u001b[0mwrite\u001b[0m\u001b[0;34m(\u001b[0m\u001b[0;34mf'{i}\\n'\u001b[0m\u001b[0;34m)\u001b[0m\u001b[0;34m\u001b[0m\u001b[0m\n\u001b[1;32m     32\u001b[0m \u001b[0;34m\u001b[0m\u001b[0m\n\u001b[0;32m---> 33\u001b[0;31m \u001b[0mprint\u001b[0m\u001b[0;34m(\u001b[0m\u001b[0;34mf'{sum(a in name_to_location for a in stations_am) / len(stations_am)*100:.1f}%'\u001b[0m\u001b[0;34m)\u001b[0m\u001b[0;34m\u001b[0m\u001b[0m\n\u001b[0m",
      "\u001b[0;31mZeroDivisionError\u001b[0m: division by zero"
     ]
    }
   ],
   "source": [
    "import io\n",
    "import re\n",
    "\n",
    "long_scale = 0.758\n",
    "cur.execute(f'''\n",
    "    SELECT name, longitude * {long_scale}, latitude FROM Stations\n",
    "''')\n",
    "\n",
    "\n",
    "def convert_name(string, searchlist):\n",
    "    string = string.upper()\n",
    "    m1 = re.search('([0-9]+)', string)\n",
    "    get_group = lambda m: m if not m else m.group(1)\n",
    "    candidates = [name.upper() for name in searchlist \n",
    "                  if (not m1 or m1.group(1) == get_group(re.search('([0-9]+)', name)))\n",
    "                     and (m1 or not re.search('([0-9]+)', name))]\n",
    "    found = max(candidates, key=lambda x: fuzzy_match(string, x)) if candidates else string\n",
    "    return found\n",
    "\n",
    "location_names = {a.upper(): (b, c) for a, b, c in list(cur.fetchall())}\n",
    "name_to_location = {}\n",
    "for k in tqdm(stations_am):\n",
    "    turnstile_label = convert_name(k, location_names)\n",
    "    if turnstile_label in location_names:\n",
    "        name_to_location[k] = location_names[convert_name(k, location_names)]\n",
    "        \n",
    "print(f'{sum(a in name_to_location for a in stations_am) / len(stations_am)*100:.1f}%')\n"
   ]
  },
  {
   "cell_type": "code",
   "execution_count": null,
   "metadata": {
    "scrolled": true
   },
   "outputs": [],
   "source": [
    "from math import sqrt\n",
    "from scipy.spatial import KDTree\n",
    "\n",
    "cur.execute(f'''\n",
    "    SELECT pickup_longitude * {long_scale}, pickup_latitude,\n",
    "           dropoff_longitude * {long_scale}, dropoff_latitude \n",
    "    FROM Taxis\n",
    "    WHERE 7 < CAST(STRFTIME(\"%H\", pickup_datetime) AS INT) < 11\n",
    "    LIMIT 2000000\n",
    "''')\n",
    "\n",
    "def dist(a, b):\n",
    "    return sqrt((a[0] - b[0]) ** 2 + (a[1] - b[1]) ** 2)\n",
    "\n",
    "taxis = list(cur.fetchall())\n",
    "traffic_matrix = np.zeros([len(name_to_location), len(name_to_location)])\n",
    "for a, b, c, d in tqdm(taxis):\n",
    "    start = np.array([1 / dist([a, b], name_to_location[x]) for x in name_to_location])\n",
    "    start = start / start.sum()\n",
    "    end = np.array([1 / dist([c, d], name_to_location[x]) for x in name_to_location])\n",
    "    end = end / end.sum()\n",
    "    update = start[:, np.newaxis] @ end[np.newaxis, :]\n",
    "    traffic_matrix += update\n",
    "\n",
    "taxi_traffic = {k: {v: traffic_matrix[i][j] for j, v in enumerate(name_to_location)} for i, k in enumerate(name_to_location)}"
   ]
  },
  {
   "cell_type": "code",
   "execution_count": null,
   "metadata": {
    "scrolled": true
   },
   "outputs": [],
   "source": [
    "'''\n",
    "Using normalized rows in y and x.\n",
    "y=∑t1'*t2/1•(t1'*t2) where t1 is taxi start and t2 taxi end\n",
    "s= pm subway entries per station\n",
    "t= am subway entries per station\n",
    "\n",
    "'''\n",
    "m = Model()\n",
    "station_tuples = [(i, stations_am[i], stations_pm[i], name_to_location[i]) \n",
    "                  for i in stations_am if i in name_to_location]\n",
    "station_to_traffic = {a: (b, c) for a, b, c, d in station_tuples}\n",
    "station_traffic_am = np.array([v1 for i, (v1, v2) in station_to_traffic.items()])\n",
    "station_traffic_am = station_traffic_am / station_traffic_am.sum()\n",
    "station_traffic_pm = np.array([v2 for i, (v1, v2) in station_to_traffic.items()])\n",
    "station_traffic_pm = station_traffic_pm / station_traffic_pm.sum()\n",
    "x_matrix = np.array([[None for i in station_to_traffic] for j in station_to_traffic])\n",
    "target_matrix = np.array([[taxi_traffic[j][i] for i in station_to_traffic] \n",
    "                          for j in station_to_traffic]).astype(np.float64)\n",
    "\n",
    "for i, v in enumerate(target_matrix):\n",
    "    if v.sum() == 0:\n",
    "        target_matrix[i] = np.ones(v.shape)\n",
    "\n",
    "for i, row in enumerate(target_matrix):\n",
    "    target_matrix[i] = row / row.sum()\n",
    "\n",
    "for (i, a), (j, b) in product(enumerate(station_to_traffic), enumerate(station_to_traffic)):\n",
    "    x_matrix[i][j] = m.addVar(vtype=GRB.CONTINUOUS, name=f'{a}->{b}')\n",
    "\n",
    "p_matrix = np.array([x_matrix[i] / station_traffic_pm[i] for i in range(len(x_matrix))])\n",
    "objective = ((p_matrix - target_matrix) * (p_matrix - target_matrix)).sum()\n",
    "\n",
    "m.setObjective(objective, GRB.MINIMIZE)\n",
    "m.addConstrs(x_matrix[i, :].sum() == station_traffic_pm[i] for i in range(len(x_matrix)))\n",
    "m.addConstrs(x_matrix[:, j].sum() == station_traffic_am[j] for j in range(len(x_matrix)))\n",
    "m.addConstrs(x_matrix[k][k] == 0 for k in range(len(x_matrix)))\n",
    "\n",
    "m.optimize()\n",
    "solution = np.vectorize(lambda x: x.getValue())(p_matrix)\n",
    "\n",
    "print(solution)\n",
    "print(objective.getValue())"
   ]
  },
  {
   "cell_type": "code",
   "execution_count": null,
   "metadata": {
    "scrolled": true
   },
   "outputs": [],
   "source": [
    "'''\n",
    "Using non-normalized xmat\n",
    "'''\n",
    "m = Model()\n",
    "station_tuples = [(i, stations_am[i], stations_pm[i], name_to_location[i]) \n",
    "                  for i in stations_am if i in name_to_location]\n",
    "station_to_traffic = {a: (b, c) for a, b, c, d in station_tuples}\n",
    "station_traffic_am = np.array([v1 for i, (v1, v2) in station_to_traffic.items()])\n",
    "station_traffic_pm = np.array([v2 for i, (v1, v2) in station_to_traffic.items()])\n",
    "station_traffic_pm = station_traffic_pm / station_traffic_pm.sum() * station_traffic_am.sum()\n",
    "x_matrix = np.array([[None for i in station_to_traffic] for j in station_to_traffic])\n",
    "target_matrix_nn = np.array([[taxi_traffic[j][i] for i in station_to_traffic] \n",
    "                          for j in station_to_traffic]).astype(np.float64)\n",
    "\n",
    "target_matrix_nn = target_matrix_nn / target_matrix_nn.sum() * station_traffic_am.sum()\n",
    "\n",
    "for (i, a), (j, b) in product(enumerate(station_to_traffic), enumerate(station_to_traffic)):\n",
    "    x_matrix[i][j] = m.addVar(vtype=GRB.CONTINUOUS, name=f'{a}->{b}')\n",
    "\n",
    "objective = ((x_matrix - target_matrix_nn) * (x_matrix - target_matrix_nn)).sum()\n",
    "\n",
    "m.setObjective(objective, GRB.MINIMIZE)\n",
    "m.addConstrs(x_matrix[i, :].sum() == station_traffic_pm[i] for i in range(len(x_matrix)))\n",
    "m.addConstrs(x_matrix[:, j].sum() == station_traffic_am[j] for j in range(len(x_matrix)))\n",
    "m.addConstrs(x_matrix[k][k] == 0 for k in range(len(x_matrix)))\n",
    "\n",
    "m.optimize()\n",
    "solution_x = np.vectorize(lambda x: x.x)(x_matrix)\n",
    "\n",
    "print(solution_x)\n",
    "print(objective.getValue())"
   ]
  },
  {
   "cell_type": "code",
   "execution_count": null,
   "metadata": {},
   "outputs": [],
   "source": [
    "from math import sqrt\n",
    "import itertools\n",
    "from matplotlib.patches import Rectangle\n",
    "import matplotlib as mpl\n",
    "\n",
    "def make_scatter(xmat, ymat, file):\n",
    "    plt.close('all')\n",
    "    mpl.rcParams.update(mpl.rcParamsDefault)\n",
    "    %matplotlib inline\n",
    "\n",
    "    def best_fit(X, Y):\n",
    "        xbar = sum(X)/len(X)\n",
    "        ybar = sum(Y)/len(Y)\n",
    "        n = len(X) \n",
    "        numer = sum([xi*yi for xi,yi in zip(X, Y)]) - n * xbar * ybar\n",
    "        denum = sum([xi**2 for xi in X]) - n * xbar**2\n",
    "        b = numer / denum\n",
    "        a = ybar - b * xbar\n",
    "        return a, b\n",
    "\n",
    "    eps = 1e-4\n",
    "    scatpts = [[a, b] for a, b in zip(chain(*xmat), chain(*ymat))]\n",
    "    norm = [[a, b] for a, b in scatpts if b > eps and a > eps]\n",
    "    a, b = best_fit(*zip(*norm))\n",
    "    r = np.corrcoef(*zip(*norm))[1, 0]\n",
    "    extra = Rectangle((0, 0), 1, 1, fc=\"w\", fill=False, edgecolor='none', linewidth=0)\n",
    "    fit = [a + b * i for i in list(zip(*scatpts))[0]]\n",
    "    plt.axis('on')\n",
    "    plt.legend([extra], [f\"r = {r}\"])\n",
    "    plt.scatter(*zip(*scatpts), alpha=0.1, s=0.3)\n",
    "    plt.xlabel('Taxi Flow')\n",
    "    plt.ylabel('Projected Subway Flow')\n",
    "    plt.plot(list(zip(*scatpts))[0], fit, color=\"r\", alpha=0.7)\n",
    "    #plt.xlim(0, 0.010)\n",
    "    #plt.ylim(-0.005, 0.02)\n",
    "    plt.savefig(f'images/subway_model/{file}.png')\n",
    "    \n",
    "make_scatter(target_matrix, solution, 'subway_scatter')\n",
    "make_scatter(target_matrix_nn, solution_x, 'subway_nn_scatter')"
   ]
  },
  {
   "cell_type": "code",
   "execution_count": null,
   "metadata": {},
   "outputs": [],
   "source": [
    "import json\n",
    "outline_points = []\n",
    "with io.open('resources/roads.geojson') as f:\n",
    "    data = json.load(f) \n",
    "    coo = [i['geometry']['coordinates'] for i in data['features']]\n",
    "    for outline in tqdm(coo):\n",
    "        for series in outline:\n",
    "            for line in series:\n",
    "                for (a, b), (c, d) in zip(line, line[1:]):\n",
    "                    outline_points.append([a * 0.758, b, c * 0.758, d])\n"
   ]
  },
  {
   "cell_type": "code",
   "execution_count": null,
   "metadata": {},
   "outputs": [],
   "source": [
    "pts = []\n",
    "\n",
    "def norm_loc(point):\n",
    "    return min(name_to_location.values(), \n",
    "                  key=lambda x: (point[0] - x[0]) ** 2 + (point[1] - x[1]) ** 2)\n",
    "\n",
    "with io.open('resources/lines.csv', 'r') as f:\n",
    "    for line in tqdm(list(f)[1:]):\n",
    "        line = re.sub(r'.*LINESTRING \\((.*)\\).*', r'\\1', line)\n",
    "        pts.append([norm_loc([float(i.split(\" \")[0]) * long_scale, float(i.split(\" \")[1])]) for i in line.split(', ')])\n",
    "\n",
    "line_net = {k: set() for k in name_to_location.values()}\n",
    "for line in tqdm(pts):\n",
    "    for a, b in zip(line, line[1:]):\n",
    "        line_net[a].add(b)\n",
    "        line_net[b].add(a)"
   ]
  },
  {
   "cell_type": "code",
   "execution_count": null,
   "metadata": {
    "scrolled": false
   },
   "outputs": [],
   "source": [
    "import networkx as nx\n",
    "import matplotlib.pyplot as plt\n",
    "from scipy.spatial import Voronoi, voronoi_plot_2d\n",
    "import pandas as pd\n",
    "from math import inf\n",
    "\n",
    "def draw(matrix, color, filename, lines=False):\n",
    "    fig = plt.figure(figsize=[24, 24])\n",
    "    plt.rcParams['figure.figsize'] = [24, 24]\n",
    "\n",
    "    vor = Voronoi([name_to_location[i] for i in name_to_location])\n",
    "    voronoi_plot_2d(vor, show_vertices=False, line_colors='lightgray', show_points=False,\n",
    "                     line_width=0.2, line_alpha=0.8, point_size=2)\n",
    "\n",
    "    city = nx.Graph()\n",
    "    \n",
    "    for i, (name, k, flow, location) in enumerate(station_tuples):\n",
    "        city.add_node(name, pos=location, size=flow / 500000)\n",
    "        \n",
    "    def draw_outline():\n",
    "        inc = 0\n",
    "        for a, b, c, d in (outline_points):\n",
    "            city.add_node(inc, pos=(a, b), size=0)\n",
    "            inc -= 1\n",
    "            city.add_node(inc, pos=(c, d), size=0)\n",
    "            inc -= 1\n",
    "            city.add_edge(inc + 1, inc + 2, weight='0.6', length=inf, color='orange')\n",
    "        def dist(x, y):\n",
    "            return sqrt((x[0] - y[0]) ** 2 + (x[1] - y[1]) ** 2)\n",
    "        for i in tqdm(line_net):\n",
    "            for j in line_net[i]:\n",
    "                n1 = [n for n, d in city.nodes(data=True) if d['pos'] == i]\n",
    "                n2 = [n for n, d in city.nodes(data=True) if d['pos'] == j]\n",
    "                for n1v, n2v in product(n1, n2):\n",
    "                    city.add_edge(n1v, n2v, length=dist(i, j), weight=0.5, color=color)\n",
    "    draw_outline()\n",
    "\n",
    "    for i1, (name1, k1, j1, location1) in enumerate(station_tuples):\n",
    "        for i2, (name2, k2, j2, location2) in enumerate(station_tuples):\n",
    "            if lines:\n",
    "                path = nx.shortest_path(city, source=name1, target=name2)\n",
    "                for a, b in zip(path, path[1:]):\n",
    "                    weight = matrix[i1][i2] ** 0.4\n",
    "                    edge = city.get_edge_data(a, b, default=None)\n",
    "                    if edge:\n",
    "                        edge['weight'] += weight / len(matrix) / 2\n",
    "            else:\n",
    "                city.add_edge(name1, name2, weight=matrix[i1][i2] ** 0.9, color=color, length=inf)\n",
    "            \n",
    "\n",
    "    edgewidth = np.array([d['weight']\n",
    "                          for (u, v, d) in city.edges(data=True)])\n",
    "    edgecolor = np.array([d['color'] \n",
    "                          for (u, v, d) in city.edges(data=True)])\n",
    "\n",
    "    pos = nx.get_node_attributes(city, 'pos')\n",
    "    attr = nx.get_node_attributes(city, 'size')\n",
    "    nodesize = [attr[i] for i in city.nodes()]\n",
    "    nx.draw_networkx_nodes(city, pos, node_size=nodesize, node_color='red')\n",
    "    nx.draw_networkx_edges(city, pos, width=edgewidth, edge_color=edgecolor)\n",
    "    plt.rcParams['figure.facecolor'] = 'black'\n",
    "    fig.patch.set_facecolor('black')\n",
    "    plt.axis('off')\n",
    "    plt.savefig(f'images/subway_model/{filename}_2015.png', bbox_inches='tight', dpi=100, facecolor='black', pad_inches=0)"
   ]
  },
  {
   "cell_type": "code",
   "execution_count": null,
   "metadata": {
    "scrolled": true
   },
   "outputs": [],
   "source": [
    "draw(solution, 'lightblue', 'subways')\n",
    "draw(solution, 'lightblue', 'subways_lines', lines=True)"
   ]
  },
  {
   "cell_type": "code",
   "execution_count": null,
   "metadata": {
    "scrolled": true
   },
   "outputs": [],
   "source": [
    "draw(solution_x / solution_x.sum() * len(solution_x), 'lightblue', 'subways_nn_lines', lines=True)\n",
    "draw(solution_x / solution_x.sum() * len(solution_x), 'lightblue', 'subways_nn')"
   ]
  },
  {
   "cell_type": "code",
   "execution_count": null,
   "metadata": {
    "scrolled": true
   },
   "outputs": [],
   "source": [
    "draw(target_matrix, 'lightyellow', 'taxis')"
   ]
  },
  {
   "cell_type": "code",
   "execution_count": null,
   "metadata": {
    "scrolled": true
   },
   "outputs": [],
   "source": [
    "draw(abs(solution - target_matrix), 'violet', 'diff')"
   ]
  }
 ],
 "metadata": {
  "kernelspec": {
   "display_name": "Python 3",
   "language": "python",
   "name": "python3"
  },
  "language_info": {
   "codemirror_mode": {
    "name": "ipython",
    "version": 3
   },
   "file_extension": ".py",
   "mimetype": "text/x-python",
   "name": "python",
   "nbconvert_exporter": "python",
   "pygments_lexer": "ipython3",
   "version": "3.6.5"
  }
 },
 "nbformat": 4,
 "nbformat_minor": 2
}
